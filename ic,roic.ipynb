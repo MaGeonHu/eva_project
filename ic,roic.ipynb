{
 "cells": [
  {
   "cell_type": "code",
   "execution_count": 1,
   "id": "a2ccaff7-544e-4334-9d0c-3a6aa6779277",
   "metadata": {},
   "outputs": [],
   "source": [
    "import pandas as pd"
   ]
  },
  {
   "cell_type": "code",
   "execution_count": 5,
   "id": "65cbfb88-8523-4adb-bb5c-433e314e2d8b",
   "metadata": {},
   "outputs": [],
   "source": [
    "ic_df =pd.read_csv('ic.csv',encoding='cp949')"
   ]
  },
  {
   "cell_type": "code",
   "execution_count": 8,
   "id": "81eda57c-f453-43c3-9c2c-1d94e8786164",
   "metadata": {},
   "outputs": [],
   "source": [
    "roic_df = pd.read_csv('roic.csv', encoding='cp949')"
   ]
  },
  {
   "cell_type": "code",
   "execution_count": 14,
   "id": "89407295-fb4e-460f-bbea-f5d45fbe2c3e",
   "metadata": {},
   "outputs": [
    {
     "data": {
      "text/plain": [
       "810"
      ]
     },
     "execution_count": 14,
     "metadata": {},
     "output_type": "execute_result"
    }
   ],
   "source": [
    "ic_df['회사명'].nunique()"
   ]
  },
  {
   "cell_type": "code",
   "execution_count": 20,
   "id": "1e9bde39-5a9e-425b-9f5f-65ec4cae6fff",
   "metadata": {},
   "outputs": [],
   "source": [
    "ic_df = ic_df.dropna(axis = 0)"
   ]
  },
  {
   "cell_type": "code",
   "execution_count": 38,
   "id": "428e49ef-c86e-4436-a10b-3ae4fc2970c7",
   "metadata": {},
   "outputs": [],
   "source": [
    "ent_name = ic_df[ic_df['회계년도'].values == '2023/12']['회사명'].unique() "
   ]
  },
  {
   "cell_type": "code",
   "execution_count": 49,
   "id": "e6c3ba2d-078a-4698-8762-15dedb548d41",
   "metadata": {},
   "outputs": [],
   "source": [
    "return_ic = pd.DataFrame()\n",
    "for i in ent_name:\n",
    "    return_ic = pd.concat([return_ic,ic_df[ic_df['회사명'] == i]])"
   ]
  },
  {
   "cell_type": "code",
   "execution_count": 52,
   "id": "70fb2fdf-e2e6-487a-9f31-bb3c95a5d491",
   "metadata": {},
   "outputs": [],
   "source": [
    "return_ic.columns = ['회사명','거래소코드','회계년도','유형자산','무형자산','비유동생물자산','기타비유동자산','재고자산']"
   ]
  },
  {
   "cell_type": "code",
   "execution_count": 55,
   "id": "334c2b79-6721-4406-95d0-d9959c98ef67",
   "metadata": {},
   "outputs": [],
   "source": [
    "return_ic['투하자산'] = return_ic['유형자산'] + return_ic['무형자산'] + return_ic['비유동생물자산']+ return_ic['기타비유동자산']+ return_ic['재고자산']"
   ]
  },
  {
   "cell_type": "code",
   "execution_count": 60,
   "id": "15ce840c-fc56-4a45-ac0b-d753e345da34",
   "metadata": {},
   "outputs": [],
   "source": [
    "roic_df = roic_df.dropna(axis = 0)"
   ]
  },
  {
   "cell_type": "code",
   "execution_count": 62,
   "id": "657bdf84-ad14-446d-bf80-83515f3e62ba",
   "metadata": {},
   "outputs": [],
   "source": [
    "ent_name = roic_df[roic_df['회계년도'].values == '2023/12']['회사명'].unique() "
   ]
  },
  {
   "cell_type": "code",
   "execution_count": 63,
   "id": "c6ea51b2-32b3-4505-8bab-355561d501c4",
   "metadata": {},
   "outputs": [],
   "source": [
    "return_roic = pd.DataFrame()\n",
    "for i in ent_name:\n",
    "    return_roic = pd.concat([return_roic,roic_df[roic_df['회사명'] == i]])"
   ]
  },
  {
   "cell_type": "code",
   "execution_count": 66,
   "id": "c8b063c8-1fdc-417f-99ee-efc43f494794",
   "metadata": {},
   "outputs": [],
   "source": [
    "return_roic.columns = ['회사명','거래소코드','회계년도','매출액','판관비','매출원가','법인세비용']"
   ]
  },
  {
   "cell_type": "code",
   "execution_count": 67,
   "id": "ddd6b3f9-0972-4eba-a780-6b10d08e4df4",
   "metadata": {},
   "outputs": [],
   "source": [
    "return_roic['ROIC'] = return_roic['매출액'] - return_roic['판관비'] - return_roic['매출원가'] -return_roic['법인세비용']"
   ]
  },
  {
   "cell_type": "code",
   "execution_count": 70,
   "id": "243feacd-3407-48a4-ae15-554410062b4f",
   "metadata": {},
   "outputs": [],
   "source": [
    "return_roic.reset_index(drop=True,inplace=True)"
   ]
  },
  {
   "cell_type": "code",
   "execution_count": 71,
   "id": "f6e2e4c8-874f-4869-b907-56f938fb1a6a",
   "metadata": {},
   "outputs": [],
   "source": [
    "return_ic.reset_index(drop=True,inplace=True)"
   ]
  },
  {
   "cell_type": "code",
   "execution_count": 72,
   "id": "51f39436-e619-482a-a3d7-2db7c8c61ec3",
   "metadata": {},
   "outputs": [],
   "source": [
    "return_ic.to_csv(\"투하자산.csv\")"
   ]
  },
  {
   "cell_type": "code",
   "execution_count": 74,
   "id": "40354185-ee8c-4eab-b7f8-1a08dbad68f0",
   "metadata": {},
   "outputs": [],
   "source": [
    "return_roic.to_csv(\"ROIC2.csv\")"
   ]
  },
  {
   "cell_type": "code",
   "execution_count": 80,
   "id": "92efed11-8f50-4734-88fc-67782eecf534",
   "metadata": {},
   "outputs": [],
   "source": [
    "return_ic[['회사명','거래소코드','회계년도']].to_csv('거래소코드.csv')"
   ]
  },
  {
   "cell_type": "code",
   "execution_count": 13,
   "id": "43ee35a4-7180-4caf-8ca8-9c3206dac577",
   "metadata": {},
   "outputs": [],
   "source": [
    "import pandas as pd\n",
    "df = pd.read_csv('투하자산.csv',index_col = 0)\n",
    "name_2023 = df[df['회계년도'].values == '2023/12']['회사명'].unique() \n",
    "name_2022 = df[df['회계년도'].values == '2022/12']['회사명'].unique() \n",
    "name_2021 = df[df['회계년도'].values == '2021/12']['회사명'].unique() \n",
    "name_2020 = df[df['회계년도'].values == '2020/12']['회사명'].unique() \n",
    "\n",
    "intersection = list(set(name_2020).intersection(name_2021))\n",
    "\n",
    "intersection = list(set(intersection).intersection(name_2022))\n",
    "                    \n",
    "intersection = list(set(intersection).intersection(name_2023))\n",
    "\n",
    "df2 = list(df['회사명'].unique())\n",
    "difference = [x for x in df2 if x not in intersection]\n",
    "\n",
    "ind = []\n",
    "for i in range(len(df)):\n",
    "    for j in difference:\n",
    "        if df['회사명'][i] == j:\n",
    "            ind.append(i)\n",
    "\n",
    "df = df.drop(index = ind)\n",
    "\n",
    "df.reset_index(drop=True,inplace=True)"
   ]
  },
  {
   "cell_type": "code",
   "execution_count": 16,
   "id": "baf4c051-c651-4de2-a58f-2ba30abf77d4",
   "metadata": {},
   "outputs": [],
   "source": [
    "df.to_csv('투하자산.csv')"
   ]
  },
  {
   "cell_type": "code",
   "execution_count": 18,
   "id": "a79b0ee2-3671-415b-9083-244cb73a1a3b",
   "metadata": {},
   "outputs": [],
   "source": [
    "import pandas as pd\n",
    "df = pd.read_csv('ROIC2.csv',index_col = 0)\n",
    "name_2023 = df[df['회계년도'].values == '2023/12']['회사명'].unique() \n",
    "name_2022 = df[df['회계년도'].values == '2022/12']['회사명'].unique() \n",
    "name_2021 = df[df['회계년도'].values == '2021/12']['회사명'].unique() \n",
    "name_2020 = df[df['회계년도'].values == '2020/12']['회사명'].unique() \n",
    "\n",
    "intersection = list(set(name_2020).intersection(name_2021))\n",
    "\n",
    "intersection = list(set(intersection).intersection(name_2022))\n",
    "                    \n",
    "intersection = list(set(intersection).intersection(name_2023))\n",
    "\n",
    "df2 = list(df['회사명'].unique())\n",
    "difference = [x for x in df2 if x not in intersection]\n",
    "\n",
    "ind = []\n",
    "for i in range(len(df)):\n",
    "    for j in difference:\n",
    "        if df['회사명'][i] == j:\n",
    "            ind.append(i)\n",
    "\n",
    "df = df.drop(index = ind)\n",
    "\n",
    "df.reset_index(drop=True,inplace=True)"
   ]
  },
  {
   "cell_type": "code",
   "execution_count": 20,
   "id": "e4f8b576-2cbf-4150-88a6-0e8e1d658397",
   "metadata": {},
   "outputs": [],
   "source": [
    "df.to_csv('ROIC.csv')"
   ]
  },
  {
   "cell_type": "code",
   "execution_count": 21,
   "id": "cfb8413c-a7b5-4223-b202-44a36dc52e50",
   "metadata": {},
   "outputs": [
    {
     "data": {
      "text/html": [
       "<div>\n",
       "<style scoped>\n",
       "    .dataframe tbody tr th:only-of-type {\n",
       "        vertical-align: middle;\n",
       "    }\n",
       "\n",
       "    .dataframe tbody tr th {\n",
       "        vertical-align: top;\n",
       "    }\n",
       "\n",
       "    .dataframe thead th {\n",
       "        text-align: right;\n",
       "    }\n",
       "</style>\n",
       "<table border=\"1\" class=\"dataframe\">\n",
       "  <thead>\n",
       "    <tr style=\"text-align: right;\">\n",
       "      <th></th>\n",
       "      <th>회사명</th>\n",
       "      <th>거래소코드</th>\n",
       "      <th>회계년도</th>\n",
       "      <th>매출액</th>\n",
       "      <th>판관비</th>\n",
       "      <th>매출원가</th>\n",
       "      <th>법인세비용</th>\n",
       "      <th>ROIC</th>\n",
       "      <th>법인세비율</th>\n",
       "    </tr>\n",
       "  </thead>\n",
       "  <tbody>\n",
       "    <tr>\n",
       "      <th>0</th>\n",
       "      <td>(주)MH에탄올</td>\n",
       "      <td>23150</td>\n",
       "      <td>2020/12</td>\n",
       "      <td>94645239.0</td>\n",
       "      <td>19039358.0</td>\n",
       "      <td>59823958.0</td>\n",
       "      <td>1259646.0</td>\n",
       "      <td>14522277.0</td>\n",
       "      <td>7.981575</td>\n",
       "    </tr>\n",
       "    <tr>\n",
       "      <th>1</th>\n",
       "      <td>(주)MH에탄올</td>\n",
       "      <td>23150</td>\n",
       "      <td>2021/12</td>\n",
       "      <td>102066937.0</td>\n",
       "      <td>20520350.0</td>\n",
       "      <td>58211274.0</td>\n",
       "      <td>2879109.0</td>\n",
       "      <td>20456204.0</td>\n",
       "      <td>12.337992</td>\n",
       "    </tr>\n",
       "    <tr>\n",
       "      <th>2</th>\n",
       "      <td>(주)MH에탄올</td>\n",
       "      <td>23150</td>\n",
       "      <td>2022/12</td>\n",
       "      <td>110722402.0</td>\n",
       "      <td>21335599.0</td>\n",
       "      <td>67461914.0</td>\n",
       "      <td>-1752590.0</td>\n",
       "      <td>23677479.0</td>\n",
       "      <td>-7.993609</td>\n",
       "    </tr>\n",
       "    <tr>\n",
       "      <th>3</th>\n",
       "      <td>(주)MH에탄올</td>\n",
       "      <td>23150</td>\n",
       "      <td>2023/12</td>\n",
       "      <td>105484095.0</td>\n",
       "      <td>21987910.0</td>\n",
       "      <td>64578664.0</td>\n",
       "      <td>2575460.0</td>\n",
       "      <td>16342061.0</td>\n",
       "      <td>13.614152</td>\n",
       "    </tr>\n",
       "    <tr>\n",
       "      <th>4</th>\n",
       "      <td>(주)SIMPAC</td>\n",
       "      <td>9160</td>\n",
       "      <td>2020/12</td>\n",
       "      <td>365863303.0</td>\n",
       "      <td>29890518.0</td>\n",
       "      <td>328185407.0</td>\n",
       "      <td>8722209.0</td>\n",
       "      <td>-934831.0</td>\n",
       "      <td>112.004438</td>\n",
       "    </tr>\n",
       "  </tbody>\n",
       "</table>\n",
       "</div>"
      ],
      "text/plain": [
       "         회사명  거래소코드     회계년도          매출액         판관비         매출원가      법인세비용  \\\n",
       "0   (주)MH에탄올  23150  2020/12   94645239.0  19039358.0   59823958.0  1259646.0   \n",
       "1   (주)MH에탄올  23150  2021/12  102066937.0  20520350.0   58211274.0  2879109.0   \n",
       "2   (주)MH에탄올  23150  2022/12  110722402.0  21335599.0   67461914.0 -1752590.0   \n",
       "3   (주)MH에탄올  23150  2023/12  105484095.0  21987910.0   64578664.0  2575460.0   \n",
       "4  (주)SIMPAC   9160  2020/12  365863303.0  29890518.0  328185407.0  8722209.0   \n",
       "\n",
       "         ROIC       법인세비율  \n",
       "0  14522277.0    7.981575  \n",
       "1  20456204.0   12.337992  \n",
       "2  23677479.0   -7.993609  \n",
       "3  16342061.0   13.614152  \n",
       "4   -934831.0  112.004438  "
      ]
     },
     "execution_count": 21,
     "metadata": {},
     "output_type": "execute_result"
    }
   ],
   "source": [
    "df.head()"
   ]
  },
  {
   "cell_type": "code",
   "execution_count": 28,
   "id": "c29d6316-3a41-436a-a75a-91c121239656",
   "metadata": {},
   "outputs": [],
   "source": [
    "df[['회사명','거래소코드','회계년도']].to_csv('거래소코드.csv')"
   ]
  },
  {
   "cell_type": "code",
   "execution_count": 26,
   "id": "27adda59-aa6d-45a1-a2e3-c1ce9fb2e263",
   "metadata": {},
   "outputs": [],
   "source": [
    "df.to_csv('거래소코드.csv')"
   ]
  },
  {
   "cell_type": "code",
   "execution_count": 25,
   "id": "9bb987a5-8f2e-4c2b-89fc-139bbe2b8bbe",
   "metadata": {},
   "outputs": [
    {
     "data": {
      "text/html": [
       "<div>\n",
       "<style scoped>\n",
       "    .dataframe tbody tr th:only-of-type {\n",
       "        vertical-align: middle;\n",
       "    }\n",
       "\n",
       "    .dataframe tbody tr th {\n",
       "        vertical-align: top;\n",
       "    }\n",
       "\n",
       "    .dataframe thead th {\n",
       "        text-align: right;\n",
       "    }\n",
       "</style>\n",
       "<table border=\"1\" class=\"dataframe\">\n",
       "  <thead>\n",
       "    <tr style=\"text-align: right;\">\n",
       "      <th></th>\n",
       "      <th>회사명</th>\n",
       "      <th>거래소코드</th>\n",
       "      <th>회계년도</th>\n",
       "      <th>매출액</th>\n",
       "      <th>판관비</th>\n",
       "      <th>매출원가</th>\n",
       "      <th>법인세비용</th>\n",
       "      <th>ROIC</th>\n",
       "      <th>법인세비율</th>\n",
       "    </tr>\n",
       "  </thead>\n",
       "  <tbody>\n",
       "    <tr>\n",
       "      <th>0</th>\n",
       "      <td>(주)MH에탄올</td>\n",
       "      <td>23150</td>\n",
       "      <td>2020/12</td>\n",
       "      <td>9.464524e+07</td>\n",
       "      <td>19039358.0</td>\n",
       "      <td>5.982396e+07</td>\n",
       "      <td>1259646.0</td>\n",
       "      <td>14522277.0</td>\n",
       "      <td>7.981575</td>\n",
       "    </tr>\n",
       "    <tr>\n",
       "      <th>1</th>\n",
       "      <td>(주)MH에탄올</td>\n",
       "      <td>23150</td>\n",
       "      <td>2021/12</td>\n",
       "      <td>1.020669e+08</td>\n",
       "      <td>20520350.0</td>\n",
       "      <td>5.821127e+07</td>\n",
       "      <td>2879109.0</td>\n",
       "      <td>20456204.0</td>\n",
       "      <td>12.337992</td>\n",
       "    </tr>\n",
       "    <tr>\n",
       "      <th>2</th>\n",
       "      <td>(주)MH에탄올</td>\n",
       "      <td>23150</td>\n",
       "      <td>2022/12</td>\n",
       "      <td>1.107224e+08</td>\n",
       "      <td>21335599.0</td>\n",
       "      <td>6.746191e+07</td>\n",
       "      <td>-1752590.0</td>\n",
       "      <td>23677479.0</td>\n",
       "      <td>-7.993609</td>\n",
       "    </tr>\n",
       "    <tr>\n",
       "      <th>3</th>\n",
       "      <td>(주)MH에탄올</td>\n",
       "      <td>23150</td>\n",
       "      <td>2023/12</td>\n",
       "      <td>1.054841e+08</td>\n",
       "      <td>21987910.0</td>\n",
       "      <td>6.457866e+07</td>\n",
       "      <td>2575460.0</td>\n",
       "      <td>16342061.0</td>\n",
       "      <td>13.614152</td>\n",
       "    </tr>\n",
       "    <tr>\n",
       "      <th>4</th>\n",
       "      <td>(주)SIMPAC</td>\n",
       "      <td>9160</td>\n",
       "      <td>2020/12</td>\n",
       "      <td>3.658633e+08</td>\n",
       "      <td>29890518.0</td>\n",
       "      <td>3.281854e+08</td>\n",
       "      <td>8722209.0</td>\n",
       "      <td>-934831.0</td>\n",
       "      <td>112.004438</td>\n",
       "    </tr>\n",
       "    <tr>\n",
       "      <th>...</th>\n",
       "      <td>...</td>\n",
       "      <td>...</td>\n",
       "      <td>...</td>\n",
       "      <td>...</td>\n",
       "      <td>...</td>\n",
       "      <td>...</td>\n",
       "      <td>...</td>\n",
       "      <td>...</td>\n",
       "      <td>...</td>\n",
       "    </tr>\n",
       "    <tr>\n",
       "      <th>1803</th>\n",
       "      <td>효성화학(주)</td>\n",
       "      <td>298000</td>\n",
       "      <td>2023/12</td>\n",
       "      <td>2.791629e+09</td>\n",
       "      <td>111042585.0</td>\n",
       "      <td>2.869423e+09</td>\n",
       "      <td>-24980344.0</td>\n",
       "      <td>-163855852.0</td>\n",
       "      <td>13.228578</td>\n",
       "    </tr>\n",
       "    <tr>\n",
       "      <th>1804</th>\n",
       "      <td>흥아해운(주)</td>\n",
       "      <td>3280</td>\n",
       "      <td>2020/12</td>\n",
       "      <td>8.893884e+07</td>\n",
       "      <td>13143526.0</td>\n",
       "      <td>8.159286e+07</td>\n",
       "      <td>-2662465.0</td>\n",
       "      <td>-3135079.0</td>\n",
       "      <td>45.924015</td>\n",
       "    </tr>\n",
       "    <tr>\n",
       "      <th>1805</th>\n",
       "      <td>흥아해운(주)</td>\n",
       "      <td>3280</td>\n",
       "      <td>2021/12</td>\n",
       "      <td>8.172431e+07</td>\n",
       "      <td>7547899.0</td>\n",
       "      <td>7.605110e+07</td>\n",
       "      <td>3312759.0</td>\n",
       "      <td>-5187447.0</td>\n",
       "      <td>-176.709885</td>\n",
       "    </tr>\n",
       "    <tr>\n",
       "      <th>1806</th>\n",
       "      <td>흥아해운(주)</td>\n",
       "      <td>3280</td>\n",
       "      <td>2022/12</td>\n",
       "      <td>1.778601e+08</td>\n",
       "      <td>15280780.0</td>\n",
       "      <td>1.329000e+08</td>\n",
       "      <td>-4806716.0</td>\n",
       "      <td>34486038.0</td>\n",
       "      <td>-16.195505</td>\n",
       "    </tr>\n",
       "    <tr>\n",
       "      <th>1807</th>\n",
       "      <td>흥아해운(주)</td>\n",
       "      <td>3280</td>\n",
       "      <td>2023/12</td>\n",
       "      <td>1.648115e+08</td>\n",
       "      <td>18078419.0</td>\n",
       "      <td>1.221699e+08</td>\n",
       "      <td>-1462157.0</td>\n",
       "      <td>26025385.0</td>\n",
       "      <td>-5.952626</td>\n",
       "    </tr>\n",
       "  </tbody>\n",
       "</table>\n",
       "<p>1808 rows × 9 columns</p>\n",
       "</div>"
      ],
      "text/plain": [
       "            회사명   거래소코드     회계년도           매출액          판관비          매출원가  \\\n",
       "0      (주)MH에탄올   23150  2020/12  9.464524e+07   19039358.0  5.982396e+07   \n",
       "1      (주)MH에탄올   23150  2021/12  1.020669e+08   20520350.0  5.821127e+07   \n",
       "2      (주)MH에탄올   23150  2022/12  1.107224e+08   21335599.0  6.746191e+07   \n",
       "3      (주)MH에탄올   23150  2023/12  1.054841e+08   21987910.0  6.457866e+07   \n",
       "4     (주)SIMPAC    9160  2020/12  3.658633e+08   29890518.0  3.281854e+08   \n",
       "...         ...     ...      ...           ...          ...           ...   \n",
       "1803    효성화학(주)  298000  2023/12  2.791629e+09  111042585.0  2.869423e+09   \n",
       "1804    흥아해운(주)    3280  2020/12  8.893884e+07   13143526.0  8.159286e+07   \n",
       "1805    흥아해운(주)    3280  2021/12  8.172431e+07    7547899.0  7.605110e+07   \n",
       "1806    흥아해운(주)    3280  2022/12  1.778601e+08   15280780.0  1.329000e+08   \n",
       "1807    흥아해운(주)    3280  2023/12  1.648115e+08   18078419.0  1.221699e+08   \n",
       "\n",
       "           법인세비용         ROIC       법인세비율  \n",
       "0      1259646.0   14522277.0    7.981575  \n",
       "1      2879109.0   20456204.0   12.337992  \n",
       "2     -1752590.0   23677479.0   -7.993609  \n",
       "3      2575460.0   16342061.0   13.614152  \n",
       "4      8722209.0    -934831.0  112.004438  \n",
       "...          ...          ...         ...  \n",
       "1803 -24980344.0 -163855852.0   13.228578  \n",
       "1804  -2662465.0   -3135079.0   45.924015  \n",
       "1805   3312759.0   -5187447.0 -176.709885  \n",
       "1806  -4806716.0   34486038.0  -16.195505  \n",
       "1807  -1462157.0   26025385.0   -5.952626  \n",
       "\n",
       "[1808 rows x 9 columns]"
      ]
     },
     "execution_count": 25,
     "metadata": {},
     "output_type": "execute_result"
    }
   ],
   "source": [
    "df"
   ]
  }
 ],
 "metadata": {
  "kernelspec": {
   "display_name": "Python 3 (ipykernel)",
   "language": "python",
   "name": "python3"
  },
  "language_info": {
   "codemirror_mode": {
    "name": "ipython",
    "version": 3
   },
   "file_extension": ".py",
   "mimetype": "text/x-python",
   "name": "python",
   "nbconvert_exporter": "python",
   "pygments_lexer": "ipython3",
   "version": "3.11.5"
  }
 },
 "nbformat": 4,
 "nbformat_minor": 5
}
