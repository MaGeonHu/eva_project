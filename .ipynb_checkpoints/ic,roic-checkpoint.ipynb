{
 "cells": [
  {
   "cell_type": "code",
   "execution_count": 1,
   "id": "a2ccaff7-544e-4334-9d0c-3a6aa6779277",
   "metadata": {},
   "outputs": [],
   "source": [
    "import pandas as pd"
   ]
  },
  {
   "cell_type": "code",
   "execution_count": 5,
   "id": "65cbfb88-8523-4adb-bb5c-433e314e2d8b",
   "metadata": {},
   "outputs": [],
   "source": [
    "ic_df =pd.read_csv('ic.csv',encoding='cp949')"
   ]
  },
  {
   "cell_type": "code",
   "execution_count": 8,
   "id": "81eda57c-f453-43c3-9c2c-1d94e8786164",
   "metadata": {},
   "outputs": [],
   "source": [
    "roic_df = pd.read_csv('roic.csv', encoding='cp949')"
   ]
  },
  {
   "cell_type": "code",
   "execution_count": 14,
   "id": "89407295-fb4e-460f-bbea-f5d45fbe2c3e",
   "metadata": {},
   "outputs": [
    {
     "data": {
      "text/plain": [
       "810"
      ]
     },
     "execution_count": 14,
     "metadata": {},
     "output_type": "execute_result"
    }
   ],
   "source": [
    "ic_df['회사명'].nunique()"
   ]
  },
  {
   "cell_type": "code",
   "execution_count": 20,
   "id": "1e9bde39-5a9e-425b-9f5f-65ec4cae6fff",
   "metadata": {},
   "outputs": [],
   "source": [
    "ic_df = ic_df.dropna(axis = 0)"
   ]
  },
  {
   "cell_type": "code",
   "execution_count": 38,
   "id": "428e49ef-c86e-4436-a10b-3ae4fc2970c7",
   "metadata": {},
   "outputs": [],
   "source": [
    "ent_name = ic_df[ic_df['회계년도'].values == '2023/12']['회사명'].unique() "
   ]
  },
  {
   "cell_type": "code",
   "execution_count": 49,
   "id": "e6c3ba2d-078a-4698-8762-15dedb548d41",
   "metadata": {},
   "outputs": [],
   "source": [
    "return_ic = pd.DataFrame()\n",
    "for i in ent_name:\n",
    "    return_ic = pd.concat([return_ic,ic_df[ic_df['회사명'] == i]])"
   ]
  },
  {
   "cell_type": "code",
   "execution_count": 52,
   "id": "70fb2fdf-e2e6-487a-9f31-bb3c95a5d491",
   "metadata": {},
   "outputs": [],
   "source": [
    "return_ic.columns = ['회사명','거래소코드','회계년도','유형자산','무형자산','비유동생물자산','기타비유동자산','재고자산']"
   ]
  },
  {
   "cell_type": "code",
   "execution_count": 55,
   "id": "334c2b79-6721-4406-95d0-d9959c98ef67",
   "metadata": {},
   "outputs": [],
   "source": [
    "return_ic['투하자산'] = return_ic['유형자산'] + return_ic['무형자산'] + return_ic['비유동생물자산']+ return_ic['기타비유동자산']+ return_ic['재고자산']"
   ]
  },
  {
   "cell_type": "code",
   "execution_count": 60,
   "id": "15ce840c-fc56-4a45-ac0b-d753e345da34",
   "metadata": {},
   "outputs": [],
   "source": [
    "roic_df = roic_df.dropna(axis = 0)"
   ]
  },
  {
   "cell_type": "code",
   "execution_count": 62,
   "id": "657bdf84-ad14-446d-bf80-83515f3e62ba",
   "metadata": {},
   "outputs": [],
   "source": [
    "ent_name = roic_df[roic_df['회계년도'].values == '2023/12']['회사명'].unique() "
   ]
  },
  {
   "cell_type": "code",
   "execution_count": 63,
   "id": "c6ea51b2-32b3-4505-8bab-355561d501c4",
   "metadata": {},
   "outputs": [],
   "source": [
    "return_roic = pd.DataFrame()\n",
    "for i in ent_name:\n",
    "    return_roic = pd.concat([return_roic,roic_df[roic_df['회사명'] == i]])"
   ]
  },
  {
   "cell_type": "code",
   "execution_count": 66,
   "id": "c8b063c8-1fdc-417f-99ee-efc43f494794",
   "metadata": {},
   "outputs": [],
   "source": [
    "return_roic.columns = ['회사명','거래소코드','회계년도','매출액','판관비','매출원가','법인세비용']"
   ]
  },
  {
   "cell_type": "code",
   "execution_count": 67,
   "id": "ddd6b3f9-0972-4eba-a780-6b10d08e4df4",
   "metadata": {},
   "outputs": [],
   "source": [
    "return_roic['ROIC'] = return_roic['매출액'] - return_roic['판관비'] - return_roic['매출원가'] -return_roic['법인세비용']"
   ]
  },
  {
   "cell_type": "code",
   "execution_count": 70,
   "id": "243feacd-3407-48a4-ae15-554410062b4f",
   "metadata": {},
   "outputs": [],
   "source": [
    "return_roic.reset_index(drop=True,inplace=True)"
   ]
  },
  {
   "cell_type": "code",
   "execution_count": 71,
   "id": "f6e2e4c8-874f-4869-b907-56f938fb1a6a",
   "metadata": {},
   "outputs": [],
   "source": [
    "return_ic.reset_index(drop=True,inplace=True)"
   ]
  },
  {
   "cell_type": "code",
   "execution_count": 72,
   "id": "51f39436-e619-482a-a3d7-2db7c8c61ec3",
   "metadata": {},
   "outputs": [],
   "source": [
    "return_ic.to_csv(\"투하자산.csv\")"
   ]
  },
  {
   "cell_type": "code",
   "execution_count": 74,
   "id": "40354185-ee8c-4eab-b7f8-1a08dbad68f0",
   "metadata": {},
   "outputs": [],
   "source": [
    "return_roic.to_csv(\"ROIC2.csv\")"
   ]
  },
  {
   "cell_type": "code",
   "execution_count": 80,
   "id": "92efed11-8f50-4734-88fc-67782eecf534",
   "metadata": {},
   "outputs": [],
   "source": [
    "return_ic[['회사명','거래소코드','회계년도']].to_csv('거래소코드.csv')"
   ]
  }
 ],
 "metadata": {
  "kernelspec": {
   "display_name": "Python 3 (ipykernel)",
   "language": "python",
   "name": "python3"
  },
  "language_info": {
   "codemirror_mode": {
    "name": "ipython",
    "version": 3
   },
   "file_extension": ".py",
   "mimetype": "text/x-python",
   "name": "python",
   "nbconvert_exporter": "python",
   "pygments_lexer": "ipython3",
   "version": "3.11.5"
  }
 },
 "nbformat": 4,
 "nbformat_minor": 5
}
