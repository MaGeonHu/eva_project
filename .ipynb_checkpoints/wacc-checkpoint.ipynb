{
 "cells": [
  {
   "cell_type": "code",
   "execution_count": 132,
   "id": "a249ed7f-2e44-4a85-a8cb-0a981f1fd3c6",
   "metadata": {},
   "outputs": [],
   "source": [
    "import pandas as pd"
   ]
  },
  {
   "cell_type": "code",
   "execution_count": 133,
   "id": "856e775e-6077-4738-bd95-3b441b496d53",
   "metadata": {},
   "outputs": [],
   "source": [
    "df = pd.read_csv('wacc2.csv', encoding = 'cp949')"
   ]
  },
  {
   "cell_type": "code",
   "execution_count": 134,
   "id": "15b703f3-0cd3-48cb-a0af-a0240748264e",
   "metadata": {},
   "outputs": [],
   "source": [
    "df.dropna(axis =0,inplace= True)"
   ]
  },
  {
   "cell_type": "code",
   "execution_count": 136,
   "id": "4d1741f1-a294-4fed-9d0f-49e4607b2e76",
   "metadata": {},
   "outputs": [],
   "source": [
    "df.reset_index(drop=True,inplace=True)"
   ]
  },
  {
   "cell_type": "code",
   "execution_count": 137,
   "id": "03be3226-2a60-4e31-8c1e-5d9de844bb4c",
   "metadata": {},
   "outputs": [],
   "source": [
    "df_ = pd.read_csv('거래소코드.csv')"
   ]
  },
  {
   "cell_type": "code",
   "execution_count": 142,
   "id": "20cc1e9e-fefb-44f2-86f9-b25d517ae6d2",
   "metadata": {},
   "outputs": [],
   "source": [
    "ent_name = df_['회사명'].unique()"
   ]
  },
  {
   "cell_type": "code",
   "execution_count": 149,
   "id": "c4fea8ea-81c6-4fba-828d-4996de1c88a3",
   "metadata": {},
   "outputs": [],
   "source": [
    "df2 = list(df['회사명'].unique())"
   ]
  },
  {
   "cell_type": "code",
   "execution_count": 151,
   "id": "b06d2295-751d-4b2e-84af-d13813bb1f68",
   "metadata": {},
   "outputs": [],
   "source": [
    "difference = [x for x in df2 if x not in ent_name]"
   ]
  },
  {
   "cell_type": "code",
   "execution_count": 154,
   "id": "ea4ba081-6489-459c-8a6a-99700518365c",
   "metadata": {},
   "outputs": [],
   "source": [
    "ind = []\n",
    "for i in range(len(df)):\n",
    "    for j in difference:\n",
    "        if df['회사명'][i] == j:\n",
    "            ind.append(i)\n",
    "\n",
    "df = df.drop(index = ind)"
   ]
  },
  {
   "cell_type": "code",
   "execution_count": 155,
   "id": "48ad3130-f7be-4079-a9b6-312f6b178f72",
   "metadata": {},
   "outputs": [],
   "source": [
    "df.reset_index(drop=True,inplace=True)"
   ]
  },
  {
   "cell_type": "code",
   "execution_count": 157,
   "id": "f1bbfc96-ed1d-4cf7-a4c5-396f5caa4415",
   "metadata": {},
   "outputs": [
    {
     "data": {
      "text/html": [
       "<div>\n",
       "<style scoped>\n",
       "    .dataframe tbody tr th:only-of-type {\n",
       "        vertical-align: middle;\n",
       "    }\n",
       "\n",
       "    .dataframe tbody tr th {\n",
       "        vertical-align: top;\n",
       "    }\n",
       "\n",
       "    .dataframe thead th {\n",
       "        text-align: right;\n",
       "    }\n",
       "</style>\n",
       "<table border=\"1\" class=\"dataframe\">\n",
       "  <thead>\n",
       "    <tr style=\"text-align: right;\">\n",
       "      <th></th>\n",
       "      <th>회사명</th>\n",
       "      <th>거래소코드</th>\n",
       "      <th>회계년도</th>\n",
       "      <th>[제조]      단기차입금(*)(IFRS연결)</th>\n",
       "      <th>[제조]      유동성장기부채(*)(IFRS연결)</th>\n",
       "      <th>[제조]            사채(IFRS연결)</th>\n",
       "      <th>[제조]            장기차입금(IFRS연결)</th>\n",
       "      <th>[제조]   이자비용(IFRS연결)</th>\n",
       "      <th>[제조]   이자비용(IFRS연결).1</th>\n",
       "      <th>[제조]   이자비용(IFRS연결).2</th>\n",
       "      <th>[제조]   이자비용(IFRS연결).3</th>\n",
       "      <th>[제조]법인세비용(IFRS연결)</th>\n",
       "      <th>[제조]자본(*)(IFRS연결)</th>\n",
       "      <th>[제조]부채(*)(IFRS연결)</th>\n",
       "    </tr>\n",
       "  </thead>\n",
       "  <tbody>\n",
       "    <tr>\n",
       "      <th>0</th>\n",
       "      <td>(주)MH에탄올</td>\n",
       "      <td>23150</td>\n",
       "      <td>2020/12</td>\n",
       "      <td>44520549.0</td>\n",
       "      <td>7136962.0</td>\n",
       "      <td>0.0</td>\n",
       "      <td>0.0</td>\n",
       "      <td>0.0</td>\n",
       "      <td>0.0</td>\n",
       "      <td>0.0</td>\n",
       "      <td>12276917.0</td>\n",
       "      <td>1259646.0</td>\n",
       "      <td>80425495.0</td>\n",
       "      <td>369253871.0</td>\n",
       "    </tr>\n",
       "    <tr>\n",
       "      <th>1</th>\n",
       "      <td>(주)MH에탄올</td>\n",
       "      <td>23150</td>\n",
       "      <td>2021/12</td>\n",
       "      <td>45807596.0</td>\n",
       "      <td>143193536.0</td>\n",
       "      <td>0.0</td>\n",
       "      <td>0.0</td>\n",
       "      <td>0.0</td>\n",
       "      <td>0.0</td>\n",
       "      <td>0.0</td>\n",
       "      <td>12134724.0</td>\n",
       "      <td>2879109.0</td>\n",
       "      <td>84703339.0</td>\n",
       "      <td>366757413.0</td>\n",
       "    </tr>\n",
       "    <tr>\n",
       "      <th>2</th>\n",
       "      <td>(주)MH에탄올</td>\n",
       "      <td>23150</td>\n",
       "      <td>2022/12</td>\n",
       "      <td>73992274.0</td>\n",
       "      <td>13973952.0</td>\n",
       "      <td>0.0</td>\n",
       "      <td>0.0</td>\n",
       "      <td>0.0</td>\n",
       "      <td>0.0</td>\n",
       "      <td>0.0</td>\n",
       "      <td>11711547.0</td>\n",
       "      <td>-1752590.0</td>\n",
       "      <td>95397727.0</td>\n",
       "      <td>352042677.0</td>\n",
       "    </tr>\n",
       "  </tbody>\n",
       "</table>\n",
       "</div>"
      ],
      "text/plain": [
       "        회사명  거래소코드     회계년도  [제조]      단기차입금(*)(IFRS연결)  \\\n",
       "0  (주)MH에탄올  23150  2020/12                  44520549.0   \n",
       "1  (주)MH에탄올  23150  2021/12                  45807596.0   \n",
       "2  (주)MH에탄올  23150  2022/12                  73992274.0   \n",
       "\n",
       "   [제조]      유동성장기부채(*)(IFRS연결)  [제조]            사채(IFRS연결)  \\\n",
       "0                     7136962.0                         0.0   \n",
       "1                   143193536.0                         0.0   \n",
       "2                    13973952.0                         0.0   \n",
       "\n",
       "   [제조]            장기차입금(IFRS연결)  [제조]   이자비용(IFRS연결)  [제조]   이자비용(IFRS연결).1  \\\n",
       "0                            0.0                  0.0                    0.0   \n",
       "1                            0.0                  0.0                    0.0   \n",
       "2                            0.0                  0.0                    0.0   \n",
       "\n",
       "   [제조]   이자비용(IFRS연결).2  [제조]   이자비용(IFRS연결).3  [제조]법인세비용(IFRS연결)  \\\n",
       "0                    0.0             12276917.0          1259646.0   \n",
       "1                    0.0             12134724.0          2879109.0   \n",
       "2                    0.0             11711547.0         -1752590.0   \n",
       "\n",
       "   [제조]자본(*)(IFRS연결)  [제조]부채(*)(IFRS연결)  \n",
       "0         80425495.0        369253871.0  \n",
       "1         84703339.0        366757413.0  \n",
       "2         95397727.0        352042677.0  "
      ]
     },
     "execution_count": 157,
     "metadata": {},
     "output_type": "execute_result"
    }
   ],
   "source": [
    "df.head(3)"
   ]
  },
  {
   "cell_type": "code",
   "execution_count": 158,
   "id": "ab1850a6-5243-4276-b02c-a1f4a4227d79",
   "metadata": {},
   "outputs": [],
   "source": [
    "df['이자비용'] = (df.iloc[:,7] + df.iloc[:,8] + df.iloc[:,9] + df.iloc[:,10])"
   ]
  },
  {
   "cell_type": "code",
   "execution_count": 159,
   "id": "5f748485-56f4-4ae6-8a2e-167cff6c2ce7",
   "metadata": {},
   "outputs": [],
   "source": [
    "df['세후타인자본비용'] = df['이자비용'] / (df.iloc[:,3] + df.iloc[:,4] + df.iloc[:,5] + df.iloc[:,6])"
   ]
  },
  {
   "cell_type": "code",
   "execution_count": 164,
   "id": "018f5799-ecf9-4a7e-8225-bdf0d39daf7e",
   "metadata": {},
   "outputs": [
    {
     "data": {
      "text/html": [
       "<div>\n",
       "<style scoped>\n",
       "    .dataframe tbody tr th:only-of-type {\n",
       "        vertical-align: middle;\n",
       "    }\n",
       "\n",
       "    .dataframe tbody tr th {\n",
       "        vertical-align: top;\n",
       "    }\n",
       "\n",
       "    .dataframe thead th {\n",
       "        text-align: right;\n",
       "    }\n",
       "</style>\n",
       "<table border=\"1\" class=\"dataframe\">\n",
       "  <thead>\n",
       "    <tr style=\"text-align: right;\">\n",
       "      <th></th>\n",
       "      <th>회사명</th>\n",
       "      <th>거래소코드</th>\n",
       "      <th>회계년도</th>\n",
       "      <th>[제조]      단기차입금(*)(IFRS연결)</th>\n",
       "      <th>[제조]      유동성장기부채(*)(IFRS연결)</th>\n",
       "      <th>[제조]            사채(IFRS연결)</th>\n",
       "      <th>[제조]            장기차입금(IFRS연결)</th>\n",
       "      <th>[제조]   이자비용(IFRS연결)</th>\n",
       "      <th>[제조]   이자비용(IFRS연결).1</th>\n",
       "      <th>[제조]   이자비용(IFRS연결).2</th>\n",
       "      <th>[제조]   이자비용(IFRS연결).3</th>\n",
       "      <th>[제조]법인세비용(IFRS연결)</th>\n",
       "      <th>[제조]자본(*)(IFRS연결)</th>\n",
       "      <th>[제조]부채(*)(IFRS연결)</th>\n",
       "      <th>이자비용</th>\n",
       "      <th>세후타인자본비용</th>\n",
       "    </tr>\n",
       "  </thead>\n",
       "  <tbody>\n",
       "    <tr>\n",
       "      <th>0</th>\n",
       "      <td>(주)MH에탄올</td>\n",
       "      <td>23150</td>\n",
       "      <td>2020/12</td>\n",
       "      <td>44520549.0</td>\n",
       "      <td>7136962.0</td>\n",
       "      <td>0.0</td>\n",
       "      <td>0.0</td>\n",
       "      <td>0.0</td>\n",
       "      <td>0.0</td>\n",
       "      <td>0.0</td>\n",
       "      <td>12276917.0</td>\n",
       "      <td>1259646.0</td>\n",
       "      <td>80425495.0</td>\n",
       "      <td>369253871.0</td>\n",
       "      <td>12276917.0</td>\n",
       "      <td>0.237660</td>\n",
       "    </tr>\n",
       "    <tr>\n",
       "      <th>1</th>\n",
       "      <td>(주)MH에탄올</td>\n",
       "      <td>23150</td>\n",
       "      <td>2021/12</td>\n",
       "      <td>45807596.0</td>\n",
       "      <td>143193536.0</td>\n",
       "      <td>0.0</td>\n",
       "      <td>0.0</td>\n",
       "      <td>0.0</td>\n",
       "      <td>0.0</td>\n",
       "      <td>0.0</td>\n",
       "      <td>12134724.0</td>\n",
       "      <td>2879109.0</td>\n",
       "      <td>84703339.0</td>\n",
       "      <td>366757413.0</td>\n",
       "      <td>12134724.0</td>\n",
       "      <td>0.064205</td>\n",
       "    </tr>\n",
       "    <tr>\n",
       "      <th>2</th>\n",
       "      <td>(주)MH에탄올</td>\n",
       "      <td>23150</td>\n",
       "      <td>2022/12</td>\n",
       "      <td>73992274.0</td>\n",
       "      <td>13973952.0</td>\n",
       "      <td>0.0</td>\n",
       "      <td>0.0</td>\n",
       "      <td>0.0</td>\n",
       "      <td>0.0</td>\n",
       "      <td>0.0</td>\n",
       "      <td>11711547.0</td>\n",
       "      <td>-1752590.0</td>\n",
       "      <td>95397727.0</td>\n",
       "      <td>352042677.0</td>\n",
       "      <td>11711547.0</td>\n",
       "      <td>0.133137</td>\n",
       "    </tr>\n",
       "    <tr>\n",
       "      <th>3</th>\n",
       "      <td>(주)MH에탄올</td>\n",
       "      <td>23150</td>\n",
       "      <td>2023/12</td>\n",
       "      <td>72818840.0</td>\n",
       "      <td>8700810.0</td>\n",
       "      <td>0.0</td>\n",
       "      <td>0.0</td>\n",
       "      <td>0.0</td>\n",
       "      <td>0.0</td>\n",
       "      <td>0.0</td>\n",
       "      <td>12192511.0</td>\n",
       "      <td>2575460.0</td>\n",
       "      <td>99070017.0</td>\n",
       "      <td>346161545.0</td>\n",
       "      <td>12192511.0</td>\n",
       "      <td>0.149565</td>\n",
       "    </tr>\n",
       "    <tr>\n",
       "      <th>4</th>\n",
       "      <td>(주)SIMPAC</td>\n",
       "      <td>9160</td>\n",
       "      <td>2020/12</td>\n",
       "      <td>142200000.0</td>\n",
       "      <td>55000.0</td>\n",
       "      <td>0.0</td>\n",
       "      <td>0.0</td>\n",
       "      <td>0.0</td>\n",
       "      <td>0.0</td>\n",
       "      <td>0.0</td>\n",
       "      <td>2954966.0</td>\n",
       "      <td>8722209.0</td>\n",
       "      <td>463986165.0</td>\n",
       "      <td>273291527.0</td>\n",
       "      <td>2954966.0</td>\n",
       "      <td>0.020772</td>\n",
       "    </tr>\n",
       "  </tbody>\n",
       "</table>\n",
       "</div>"
      ],
      "text/plain": [
       "         회사명  거래소코드     회계년도  [제조]      단기차입금(*)(IFRS연결)  \\\n",
       "0   (주)MH에탄올  23150  2020/12                  44520549.0   \n",
       "1   (주)MH에탄올  23150  2021/12                  45807596.0   \n",
       "2   (주)MH에탄올  23150  2022/12                  73992274.0   \n",
       "3   (주)MH에탄올  23150  2023/12                  72818840.0   \n",
       "4  (주)SIMPAC   9160  2020/12                 142200000.0   \n",
       "\n",
       "   [제조]      유동성장기부채(*)(IFRS연결)  [제조]            사채(IFRS연결)  \\\n",
       "0                     7136962.0                         0.0   \n",
       "1                   143193536.0                         0.0   \n",
       "2                    13973952.0                         0.0   \n",
       "3                     8700810.0                         0.0   \n",
       "4                       55000.0                         0.0   \n",
       "\n",
       "   [제조]            장기차입금(IFRS연결)  [제조]   이자비용(IFRS연결)  [제조]   이자비용(IFRS연결).1  \\\n",
       "0                            0.0                  0.0                    0.0   \n",
       "1                            0.0                  0.0                    0.0   \n",
       "2                            0.0                  0.0                    0.0   \n",
       "3                            0.0                  0.0                    0.0   \n",
       "4                            0.0                  0.0                    0.0   \n",
       "\n",
       "   [제조]   이자비용(IFRS연결).2  [제조]   이자비용(IFRS연결).3  [제조]법인세비용(IFRS연결)  \\\n",
       "0                    0.0             12276917.0          1259646.0   \n",
       "1                    0.0             12134724.0          2879109.0   \n",
       "2                    0.0             11711547.0         -1752590.0   \n",
       "3                    0.0             12192511.0          2575460.0   \n",
       "4                    0.0              2954966.0          8722209.0   \n",
       "\n",
       "   [제조]자본(*)(IFRS연결)  [제조]부채(*)(IFRS연결)        이자비용  세후타인자본비용  \n",
       "0         80425495.0        369253871.0  12276917.0  0.237660  \n",
       "1         84703339.0        366757413.0  12134724.0  0.064205  \n",
       "2         95397727.0        352042677.0  11711547.0  0.133137  \n",
       "3         99070017.0        346161545.0  12192511.0  0.149565  \n",
       "4        463986165.0        273291527.0   2954966.0  0.020772  "
      ]
     },
     "execution_count": 164,
     "metadata": {},
     "output_type": "execute_result"
    }
   ],
   "source": [
    "df.head()"
   ]
  },
  {
   "cell_type": "code",
   "execution_count": 165,
   "id": "53f87a7b-da63-4d6c-98b8-9370c875e189",
   "metadata": {},
   "outputs": [],
   "source": [
    "df.columns = ['회사명','거래소코드','회계년도','단기차입금','유동성장기부채','사채','장기차입금','이비','이비1','이비2','이비3','법인세비용','자본','부채','이자비용','세후타인자본비용']"
   ]
  },
  {
   "cell_type": "code",
   "execution_count": 166,
   "id": "e1583d8b-4a52-4069-9773-581457da97a6",
   "metadata": {},
   "outputs": [],
   "source": [
    "df.drop(columns = ['이비','이비1','이비2','이비3'],inplace = True)"
   ]
  },
  {
   "cell_type": "code",
   "execution_count": 111,
   "id": "14be08ae-3dd5-492b-a4f2-ca854505fbe2",
   "metadata": {},
   "outputs": [],
   "source": [
    "# wacc = 자기자본비용 * 자본/(자본 + 부채) + 세후타인자본비용 * 부채/(자본+부채)"
   ]
  },
  {
   "cell_type": "code",
   "execution_count": 167,
   "id": "a2c450af-c4c6-415f-a51d-8f7a5207d74b",
   "metadata": {},
   "outputs": [],
   "source": [
    "df.to_csv('wacc.csv')"
   ]
  },
  {
   "cell_type": "code",
   "execution_count": null,
   "id": "bf9bab0f-8d45-48b9-a946-6467cb4fe989",
   "metadata": {},
   "outputs": [],
   "source": []
  }
 ],
 "metadata": {
  "kernelspec": {
   "display_name": "Python 3 (ipykernel)",
   "language": "python",
   "name": "python3"
  },
  "language_info": {
   "codemirror_mode": {
    "name": "ipython",
    "version": 3
   },
   "file_extension": ".py",
   "mimetype": "text/x-python",
   "name": "python",
   "nbconvert_exporter": "python",
   "pygments_lexer": "ipython3",
   "version": "3.11.5"
  }
 },
 "nbformat": 4,
 "nbformat_minor": 5
}
