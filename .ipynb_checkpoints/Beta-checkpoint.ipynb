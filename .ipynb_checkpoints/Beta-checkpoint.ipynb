{
 "cells": [
  {
   "cell_type": "code",
   "execution_count": 274,
   "id": "08e20ac1-67f1-42e9-8b21-007df8d5b939",
   "metadata": {},
   "outputs": [],
   "source": [
    "import datetime\n",
    "import numpy as np\n",
    "import pandas as pd\n",
    "import yfinance as yf\n",
    "\n",
    "\n",
    "e_date = datetime.datetime(2020,12,1)\n",
    "s_date = datetime.datetime(2020,1,1)\n",
    "\n",
    "ticker_symbol = \"005930.KS\"  \n",
    "market_symbol = \"^KS11\"\n",
    "\n",
    "## 주간수익률\n",
    "def week_price_ret(ticker_symbol,s_date,e_date):\n",
    "    ticker_df = yf.download(ticker_symbol, start=s_date, end=e_date)['Adj Close']\n",
    "    \n",
    "    ticker_close = pd.DataFrame(ticker_df)\n",
    "    \n",
    "    \n",
    "    ticker_close = ticker_close.reset_index()\n",
    "    start_date = ticker_close['Date'].astype(str).iloc[0]\n",
    "    end_date = ticker_close['Date'].astype(str).iloc[-1]\n",
    "    date_all  = pd.date_range(start_date,end_date,freq='D').to_frame().rename(columns = {0:'Date'}).reset_index(drop=True)\n",
    "    price_all  = pd.merge(date_all,ticker_close,how='left')\n",
    "    price_all = price_all.fillna(method='ffill')\n",
    "    \n",
    "    price_all['Day_Name'] = price_all['Date'].dt.day_name()\n",
    "    last_day = price_all.iloc[[-1,]]\n",
    "    \n",
    "    \n",
    "    price_wed = price_all[price_all['Day_Name'] == price_all['Day_Name'][0]]\n",
    "    price_wed = pd.concat([price_wed,last_day])\n",
    "    price_wed = price_wed.set_index(['Date']).drop(['Day_Name'],axis = 1)\n",
    "    week_wed_ret = price_wed.pct_change(1).dropna()\n",
    "    return week_wed_ret\n",
    "\n",
    "## beta값 \n",
    "def beta(ticker,market):\n",
    "    beta = (np.cov(market,ticker)[0,1]/np.var(market))\n",
    "    return beta\n"
   ]
  },
  {
   "cell_type": "code",
   "execution_count": 279,
   "id": "69dc7986-ffc4-46d6-b0a0-ef3de17bf05d",
   "metadata": {},
   "outputs": [
    {
     "name": "stderr",
     "output_type": "stream",
     "text": [
      "C:\\Users\\geonh\\AppData\\Local\\Programs\\Python\\Python311\\Lib\\site-packages\\yfinance\\utils.py:775: FutureWarning: The 'unit' keyword in TimedeltaIndex construction is deprecated and will be removed in a future version. Use pd.to_timedelta instead.\n",
      "  df.index += _pd.TimedeltaIndex(dst_error_hours, 'h')\n",
      "[*********************100%%**********************]  1 of 1 completed\n",
      "C:\\Users\\geonh\\AppData\\Local\\Temp\\ipykernel_4484\\472250950.py:24: FutureWarning: DataFrame.fillna with 'method' is deprecated and will raise in a future version. Use obj.ffill() or obj.bfill() instead.\n",
      "  price_all = price_all.fillna(method='ffill')\n",
      "C:\\Users\\geonh\\AppData\\Local\\Programs\\Python\\Python311\\Lib\\site-packages\\yfinance\\utils.py:775: FutureWarning: The 'unit' keyword in TimedeltaIndex construction is deprecated and will be removed in a future version. Use pd.to_timedelta instead.\n",
      "  df.index += _pd.TimedeltaIndex(dst_error_hours, 'h')\n",
      "[*********************100%%**********************]  1 of 1 completed\n",
      "C:\\Users\\geonh\\AppData\\Local\\Temp\\ipykernel_4484\\472250950.py:24: FutureWarning: DataFrame.fillna with 'method' is deprecated and will raise in a future version. Use obj.ffill() or obj.bfill() instead.\n",
      "  price_all = price_all.fillna(method='ffill')\n"
     ]
    },
    {
     "data": {
      "text/plain": [
       "0.870799618443703"
      ]
     },
     "execution_count": 279,
     "metadata": {},
     "output_type": "execute_result"
    }
   ],
   "source": [
    "sam = week_price_ret(ticker_symbol,s_date,e_date)\n",
    "ko =  week_price_ret(market_symbol,s_date,e_date)\n",
    "beta(sam['Adj Close'],ko['Adj Close'])"
   ]
  },
  {
   "cell_type": "code",
   "execution_count": null,
   "id": "cf26015a-75d0-4f30-91e5-2841bee5d534",
   "metadata": {},
   "outputs": [],
   "source": []
  }
 ],
 "metadata": {
  "kernelspec": {
   "display_name": "Python 3 (ipykernel)",
   "language": "python",
   "name": "python3"
  },
  "language_info": {
   "codemirror_mode": {
    "name": "ipython",
    "version": 3
   },
   "file_extension": ".py",
   "mimetype": "text/x-python",
   "name": "python",
   "nbconvert_exporter": "python",
   "pygments_lexer": "ipython3",
   "version": "3.11.5"
  }
 },
 "nbformat": 4,
 "nbformat_minor": 5
}
