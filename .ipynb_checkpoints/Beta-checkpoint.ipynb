{
 "cells": [
  {
   "cell_type": "code",
   "execution_count": 3,
   "id": "08e20ac1-67f1-42e9-8b21-007df8d5b939",
   "metadata": {},
   "outputs": [],
   "source": [
    "import datetime\n",
    "import numpy as np\n",
    "import pandas as pd\n",
    "import yfinance as yf\n",
    "import warnings\n",
    "warnings.filterwarnings('ignore')\n",
    "\n",
    "## 주간수익률\n",
    "def week_price_ret(ticker_symbol,s_date,e_date):\n",
    "    ticker_df = yf.download(ticker_symbol, start=s_date, end=e_date)['Adj Close']\n",
    "    \n",
    "    ticker_close = pd.DataFrame(ticker_df)\n",
    "    \n",
    "    \n",
    "    ticker_close = ticker_close.reset_index()\n",
    "    start_date = ticker_close['Date'].astype(str).iloc[0]\n",
    "    end_date = ticker_close['Date'].astype(str).iloc[-1]\n",
    "    date_all  = pd.date_range(start_date,end_date,freq='D').to_frame().rename(columns = {0:'Date'}).reset_index(drop=True)\n",
    "    price_all  = pd.merge(date_all,ticker_close,how='left')\n",
    "    price_all = price_all.fillna(method='ffill')\n",
    "    \n",
    "    price_all['Day_Name'] = price_all['Date'].dt.day_name()\n",
    "    last_day = price_all.iloc[[-1,]]\n",
    "    \n",
    "    \n",
    "    price_wed = price_all[price_all['Day_Name'] == price_all['Day_Name'][0]]\n",
    "    price_wed = pd.concat([price_wed,last_day])\n",
    "    price_wed = price_wed.set_index(['Date']).drop(['Day_Name'],axis = 1)\n",
    "    week_wed_ret = price_wed.pct_change(1).dropna()\n",
    "    return week_wed_ret\n",
    "\n",
    "\n",
    "## beta값 \n",
    "def beta(ticker,market):\n",
    "    beta = (np.cov(market,ticker)[0,1]/np.var(market))\n",
    "    return beta\n",
    "# def capm(rf,rm,beta):\n",
    "#     return rf+(rm - rf)*beta"
   ]
  },
  {
   "cell_type": "code",
   "execution_count": 4,
   "id": "69dc7986-ffc4-46d6-b0a0-ef3de17bf05d",
   "metadata": {},
   "outputs": [
    {
     "name": "stderr",
     "output_type": "stream",
     "text": [
      "[*********************100%%**********************]  1 of 1 completed\n"
     ]
    }
   ],
   "source": [
    "\n",
    "e_date = datetime.datetime(2023,12,31)\n",
    "s_date = datetime.datetime(2023,1,1)\n",
    "\n",
    "ticker_symbol = \"005380.KS\"  \n",
    "market_symbol = \"^KS11\"\n",
    "\n",
    "ko =  week_price_ret(market_symbol,s_date,e_date)\n",
    "# beta_s = beta(sam['Adj Close'],ko['Adj Close'])"
   ]
  },
  {
   "cell_type": "code",
   "execution_count": 8,
   "id": "d460d260-e515-4a4c-acde-522dcafe3f52",
   "metadata": {},
   "outputs": [],
   "source": [
    "df = pd.read_csv('거래소코드.csv', index_col = 0)"
   ]
  },
  {
   "cell_type": "code",
   "execution_count": 22,
   "id": "d27f7020-3ffd-4a72-b0d7-e5279da6d98f",
   "metadata": {
    "scrolled": true
   },
   "outputs": [],
   "source": [
    "for i in range(0,len(df),4):\n",
    "    code = df['거래소코드'][i].astype('str') + '.ks'\n"
   ]
  },
  {
   "cell_type": "code",
   "execution_count": 30,
   "id": "56020331-9bcc-418a-be2a-a98fabb36a7c",
   "metadata": {},
   "outputs": [
    {
     "name": "stderr",
     "output_type": "stream",
     "text": [
      "[*********************100%%**********************]  1 of 1 completed\n"
     ]
    }
   ],
   "source": [
    "\n",
    "oo =  week_price_ret('003280.ks',s_date,e_date)"
   ]
  },
  {
   "cell_type": "code",
   "execution_count": 32,
   "id": "4e7eda29-b780-43a5-a15b-42d72fa06f04",
   "metadata": {},
   "outputs": [
    {
     "data": {
      "text/plain": [
       "52"
      ]
     },
     "execution_count": 32,
     "metadata": {},
     "output_type": "execute_result"
    }
   ],
   "source": [
    "len(oo)"
   ]
  },
  {
   "cell_type": "code",
   "execution_count": 27,
   "id": "d115ad4e-b376-4f15-ac50-2454e4618ae6",
   "metadata": {},
   "outputs": [
    {
     "data": {
      "text/plain": [
       "'3280.ks'"
      ]
     },
     "execution_count": 27,
     "metadata": {},
     "output_type": "execute_result"
    }
   ],
   "source": [
    "code"
   ]
  }
 ],
 "metadata": {
  "kernelspec": {
   "display_name": "Python 3 (ipykernel)",
   "language": "python",
   "name": "python3"
  },
  "language_info": {
   "codemirror_mode": {
    "name": "ipython",
    "version": 3
   },
   "file_extension": ".py",
   "mimetype": "text/x-python",
   "name": "python",
   "nbconvert_exporter": "python",
   "pygments_lexer": "ipython3",
   "version": "3.11.5"
  }
 },
 "nbformat": 4,
 "nbformat_minor": 5
}
