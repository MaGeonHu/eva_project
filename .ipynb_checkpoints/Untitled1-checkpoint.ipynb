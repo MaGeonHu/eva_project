{
 "cells": [
  {
   "cell_type": "code",
   "execution_count": 1,
   "id": "e3e5efa1-18d3-4ab4-9317-2d1a3effeb19",
   "metadata": {},
   "outputs": [],
   "source": [
    "import dart_fss as dart\n",
    "import pandas as pd\n",
    "import numpy as np"
   ]
  },
  {
   "cell_type": "code",
   "execution_count": 2,
   "id": "b96a01e5-0d34-4cd2-b8a6-523df79a51de",
   "metadata": {},
   "outputs": [
    {
     "name": "stdout",
     "output_type": "stream",
     "text": [
      "                                   \r"
     ]
    }
   ],
   "source": [
    "api_key = '3476ae0a27ce21f0e6f0b41f000a0ac3ed120c58'\n",
    "dart.set_api_key(api_key)\n",
    "corp_list = dart.get_corp_list()"
   ]
  },
  {
   "cell_type": "code",
   "execution_count": 9,
   "id": "8978a516-99d8-4607-b66c-aae2d1709a66",
   "metadata": {},
   "outputs": [
    {
     "data": {
      "application/vnd.jupyter.widget-view+json": {
       "model_id": "c5c14f10f215489681b4b94a43037ec6",
       "version_major": 2,
       "version_minor": 0
      },
      "text/plain": [
       "Annual reports:   0%|          | 0/5 [00:00<?, ?report/s]"
      ]
     },
     "metadata": {},
     "output_type": "display_data"
    }
   ],
   "source": [
    "samsung = corp_list.find_by_corp_name('삼성전자', exactly=True)[0]\n",
    "\n",
    "fs = samsung.extract_fs(bgn_de='20200101')"
   ]
  },
  {
   "cell_type": "code",
   "execution_count": 11,
   "id": "44b295cb-9dab-4d44-8d4e-25d8dec0c743",
   "metadata": {},
   "outputs": [],
   "source": [
    "for i in range(len(fs)):\n",
    "    fs[i].to_csv(f'samsung{i}.csv')"
   ]
  },
  {
   "cell_type": "code",
   "execution_count": 13,
   "id": "65115b23-9ac0-4221-8a54-aef9a54f431f",
   "metadata": {},
   "outputs": [],
   "source": [
    "df = fs[0]"
   ]
  },
  {
   "cell_type": "code",
   "execution_count": 32,
   "id": "d59a0b7f-85b6-48a3-8cd2-b4d51da3a2a8",
   "metadata": {},
   "outputs": [
    {
     "name": "stdout",
     "output_type": "stream",
     "text": [
      "('20231231', ('연결재무제표',))\n"
     ]
    }
   ],
   "source": [
    "temp = 0\n",
    "for i in df.columns:\n",
    "    if i[0] == '20231231':\n",
    "        print(i)"
   ]
  },
  {
   "cell_type": "code",
   "execution_count": null,
   "id": "ecadb019-1331-4c29-8ded-78a5c316c7e8",
   "metadata": {},
   "outputs": [],
   "source": []
  }
 ],
 "metadata": {
  "kernelspec": {
   "display_name": "Python 3 (ipykernel)",
   "language": "python",
   "name": "python3"
  },
  "language_info": {
   "codemirror_mode": {
    "name": "ipython",
    "version": 3
   },
   "file_extension": ".py",
   "mimetype": "text/x-python",
   "name": "python",
   "nbconvert_exporter": "python",
   "pygments_lexer": "ipython3",
   "version": "3.11.5"
  }
 },
 "nbformat": 4,
 "nbformat_minor": 5
}
